{
 "cells": [
  {
   "cell_type": "markdown",
   "metadata": {},
   "source": [
    "<h2 style=\"color:purple;\">Import Libraries and Load metadata</h2>"
   ]
  },
  {
   "cell_type": "code",
   "execution_count": 1,
   "metadata": {},
   "outputs": [],
   "source": [
    "import numpy as np \n",
    "import pandas as pd \n",
    "import seaborn as sns\n",
    "import matplotlib.pyplot as plt\n",
    "\n",
    "import warnings\n",
    "warnings.filterwarnings(\"ignore\")"
   ]
  },
  {
   "cell_type": "code",
   "execution_count": 2,
   "metadata": {},
   "outputs": [
    {
     "data": {
      "text/html": [
       "<div>\n",
       "<style scoped>\n",
       "    .dataframe tbody tr th:only-of-type {\n",
       "        vertical-align: middle;\n",
       "    }\n",
       "\n",
       "    .dataframe tbody tr th {\n",
       "        vertical-align: top;\n",
       "    }\n",
       "\n",
       "    .dataframe thead th {\n",
       "        text-align: right;\n",
       "    }\n",
       "</style>\n",
       "<table border=\"1\" class=\"dataframe\">\n",
       "  <thead>\n",
       "    <tr style=\"text-align: right;\">\n",
       "      <th></th>\n",
       "      <th>filename</th>\n",
       "      <th>actor</th>\n",
       "      <th>gender</th>\n",
       "      <th>emotion</th>\n",
       "      <th>emotion_code</th>\n",
       "      <th>duration</th>\n",
       "      <th>loudness</th>\n",
       "      <th>voice_ratio</th>\n",
       "      <th>centroid_mean</th>\n",
       "      <th>centroid_std</th>\n",
       "      <th>...</th>\n",
       "      <th>contrast_7</th>\n",
       "      <th>tonnetz_1</th>\n",
       "      <th>tonnetz_2</th>\n",
       "      <th>tonnetz_3</th>\n",
       "      <th>tonnetz_4</th>\n",
       "      <th>tonnetz_5</th>\n",
       "      <th>tonnetz_6</th>\n",
       "      <th>silence_ratio</th>\n",
       "      <th>pitch_mean</th>\n",
       "      <th>energy_ratio</th>\n",
       "    </tr>\n",
       "  </thead>\n",
       "  <tbody>\n",
       "    <tr>\n",
       "      <th>0</th>\n",
       "      <td>03-01-07-01-01-02-18.wav</td>\n",
       "      <td>18</td>\n",
       "      <td>male</td>\n",
       "      <td>disgust</td>\n",
       "      <td>7</td>\n",
       "      <td>2.176</td>\n",
       "      <td>-17.363924</td>\n",
       "      <td>0.764706</td>\n",
       "      <td>3103.861734</td>\n",
       "      <td>1133.595952</td>\n",
       "      <td>...</td>\n",
       "      <td>51.832581</td>\n",
       "      <td>-0.018983</td>\n",
       "      <td>-0.025689</td>\n",
       "      <td>-0.019540</td>\n",
       "      <td>0.037315</td>\n",
       "      <td>-0.004874</td>\n",
       "      <td>-0.002966</td>\n",
       "      <td>0.235294</td>\n",
       "      <td>2245.6667</td>\n",
       "      <td>NaN</td>\n",
       "    </tr>\n",
       "    <tr>\n",
       "      <th>1</th>\n",
       "      <td>03-01-07-01-01-02-18.wav_stretch</td>\n",
       "      <td>18</td>\n",
       "      <td>male</td>\n",
       "      <td>disgust</td>\n",
       "      <td>7</td>\n",
       "      <td>2.720</td>\n",
       "      <td>-16.133003</td>\n",
       "      <td>0.776471</td>\n",
       "      <td>3117.783534</td>\n",
       "      <td>1044.945930</td>\n",
       "      <td>...</td>\n",
       "      <td>51.422385</td>\n",
       "      <td>-0.005568</td>\n",
       "      <td>-0.029710</td>\n",
       "      <td>-0.014867</td>\n",
       "      <td>0.044577</td>\n",
       "      <td>-0.008606</td>\n",
       "      <td>-0.012778</td>\n",
       "      <td>0.223529</td>\n",
       "      <td>2203.0874</td>\n",
       "      <td>NaN</td>\n",
       "    </tr>\n",
       "    <tr>\n",
       "      <th>2</th>\n",
       "      <td>03-01-07-01-01-02-18.wav_shift</td>\n",
       "      <td>18</td>\n",
       "      <td>male</td>\n",
       "      <td>disgust</td>\n",
       "      <td>7</td>\n",
       "      <td>2.176</td>\n",
       "      <td>-16.485405</td>\n",
       "      <td>0.823529</td>\n",
       "      <td>3229.374024</td>\n",
       "      <td>1080.269650</td>\n",
       "      <td>...</td>\n",
       "      <td>53.300893</td>\n",
       "      <td>-0.029735</td>\n",
       "      <td>0.004281</td>\n",
       "      <td>0.034622</td>\n",
       "      <td>-0.051420</td>\n",
       "      <td>0.008897</td>\n",
       "      <td>0.000196</td>\n",
       "      <td>0.176471</td>\n",
       "      <td>2135.2737</td>\n",
       "      <td>NaN</td>\n",
       "    </tr>\n",
       "    <tr>\n",
       "      <th>3</th>\n",
       "      <td>03-01-05-01-02-01-18.wav</td>\n",
       "      <td>18</td>\n",
       "      <td>male</td>\n",
       "      <td>angry</td>\n",
       "      <td>5</td>\n",
       "      <td>1.632</td>\n",
       "      <td>-12.006447</td>\n",
       "      <td>0.980392</td>\n",
       "      <td>3149.329740</td>\n",
       "      <td>1393.901212</td>\n",
       "      <td>...</td>\n",
       "      <td>50.715246</td>\n",
       "      <td>-0.001349</td>\n",
       "      <td>-0.016009</td>\n",
       "      <td>0.012247</td>\n",
       "      <td>-0.020919</td>\n",
       "      <td>-0.010431</td>\n",
       "      <td>-0.004213</td>\n",
       "      <td>NaN</td>\n",
       "      <td>2139.2192</td>\n",
       "      <td>23.973597</td>\n",
       "    </tr>\n",
       "    <tr>\n",
       "      <th>4</th>\n",
       "      <td>03-01-05-01-02-01-18.wav_stretch</td>\n",
       "      <td>18</td>\n",
       "      <td>male</td>\n",
       "      <td>angry</td>\n",
       "      <td>5</td>\n",
       "      <td>2.040</td>\n",
       "      <td>-12.320189</td>\n",
       "      <td>0.988235</td>\n",
       "      <td>3173.226784</td>\n",
       "      <td>1353.186854</td>\n",
       "      <td>...</td>\n",
       "      <td>50.693348</td>\n",
       "      <td>0.019958</td>\n",
       "      <td>-0.022524</td>\n",
       "      <td>0.015145</td>\n",
       "      <td>-0.022695</td>\n",
       "      <td>-0.009523</td>\n",
       "      <td>-0.004047</td>\n",
       "      <td>NaN</td>\n",
       "      <td>2079.5986</td>\n",
       "      <td>13.721988</td>\n",
       "    </tr>\n",
       "  </tbody>\n",
       "</table>\n",
       "<p>5 rows × 74 columns</p>\n",
       "</div>"
      ],
      "text/plain": [
       "                           filename  actor gender  emotion  emotion_code  \\\n",
       "0          03-01-07-01-01-02-18.wav     18   male  disgust             7   \n",
       "1  03-01-07-01-01-02-18.wav_stretch     18   male  disgust             7   \n",
       "2    03-01-07-01-01-02-18.wav_shift     18   male  disgust             7   \n",
       "3          03-01-05-01-02-01-18.wav     18   male    angry             5   \n",
       "4  03-01-05-01-02-01-18.wav_stretch     18   male    angry             5   \n",
       "\n",
       "   duration   loudness  voice_ratio  centroid_mean  centroid_std  ...  \\\n",
       "0     2.176 -17.363924     0.764706    3103.861734   1133.595952  ...   \n",
       "1     2.720 -16.133003     0.776471    3117.783534   1044.945930  ...   \n",
       "2     2.176 -16.485405     0.823529    3229.374024   1080.269650  ...   \n",
       "3     1.632 -12.006447     0.980392    3149.329740   1393.901212  ...   \n",
       "4     2.040 -12.320189     0.988235    3173.226784   1353.186854  ...   \n",
       "\n",
       "   contrast_7  tonnetz_1  tonnetz_2  tonnetz_3  tonnetz_4  tonnetz_5  \\\n",
       "0   51.832581  -0.018983  -0.025689  -0.019540   0.037315  -0.004874   \n",
       "1   51.422385  -0.005568  -0.029710  -0.014867   0.044577  -0.008606   \n",
       "2   53.300893  -0.029735   0.004281   0.034622  -0.051420   0.008897   \n",
       "3   50.715246  -0.001349  -0.016009   0.012247  -0.020919  -0.010431   \n",
       "4   50.693348   0.019958  -0.022524   0.015145  -0.022695  -0.009523   \n",
       "\n",
       "   tonnetz_6  silence_ratio  pitch_mean  energy_ratio  \n",
       "0  -0.002966       0.235294   2245.6667           NaN  \n",
       "1  -0.012778       0.223529   2203.0874           NaN  \n",
       "2   0.000196       0.176471   2135.2737           NaN  \n",
       "3  -0.004213            NaN   2139.2192     23.973597  \n",
       "4  -0.004047            NaN   2079.5986     13.721988  \n",
       "\n",
       "[5 rows x 74 columns]"
      ]
     },
     "execution_count": 2,
     "metadata": {},
     "output_type": "execute_result"
    }
   ],
   "source": [
    "df = pd.read_csv('audio_metadata.csv')\n",
    "df.head()"
   ]
  },
  {
   "cell_type": "code",
   "execution_count": 3,
   "metadata": {},
   "outputs": [
    {
     "name": "stdout",
     "output_type": "stream",
     "text": [
      "Dataset Shape:  (4320, 74)\n",
      "<class 'pandas.core.frame.DataFrame'>\n",
      "RangeIndex: 4320 entries, 0 to 4319\n",
      "Data columns (total 74 columns):\n",
      " #   Column          Non-Null Count  Dtype  \n",
      "---  ------          --------------  -----  \n",
      " 0   filename        4320 non-null   object \n",
      " 1   actor           4320 non-null   int64  \n",
      " 2   gender          4320 non-null   object \n",
      " 3   emotion         4320 non-null   object \n",
      " 4   emotion_code    4320 non-null   int64  \n",
      " 5   duration        4320 non-null   float64\n",
      " 6   loudness        4320 non-null   float64\n",
      " 7   voice_ratio     4320 non-null   float64\n",
      " 8   centroid_mean   4320 non-null   float64\n",
      " 9   centroid_std    4320 non-null   float64\n",
      " 10  centroid_skew   4320 non-null   float64\n",
      " 11  centroid_kurt   4320 non-null   float64\n",
      " 12  rolloff_mean    4320 non-null   float64\n",
      " 13  rolloff_std     4320 non-null   float64\n",
      " 14  rolloff_skew    4320 non-null   float64\n",
      " 15  rolloff_kurt    4320 non-null   float64\n",
      " 16  bandwidth_mean  4320 non-null   float64\n",
      " 17  bandwidth_std   4320 non-null   float64\n",
      " 18  bandwidth_skew  4320 non-null   float64\n",
      " 19  bandwidth_kurt  4320 non-null   float64\n",
      " 20  mfcc_1          4320 non-null   float64\n",
      " 21  mfcc_1_delta    4320 non-null   float64\n",
      " 22  mfcc_2          4320 non-null   float64\n",
      " 23  mfcc_2_delta    4320 non-null   float64\n",
      " 24  mfcc_3          4320 non-null   float64\n",
      " 25  mfcc_3_delta    4320 non-null   float64\n",
      " 26  mfcc_4          4320 non-null   float64\n",
      " 27  mfcc_4_delta    4320 non-null   float64\n",
      " 28  mfcc_5          4320 non-null   float64\n",
      " 29  mfcc_5_delta    4320 non-null   float64\n",
      " 30  mfcc_6          4320 non-null   float64\n",
      " 31  mfcc_6_delta    4320 non-null   float64\n",
      " 32  mfcc_7          4320 non-null   float64\n",
      " 33  mfcc_7_delta    4320 non-null   float64\n",
      " 34  mfcc_8          4320 non-null   float64\n",
      " 35  mfcc_8_delta    4320 non-null   float64\n",
      " 36  mfcc_9          4320 non-null   float64\n",
      " 37  mfcc_9_delta    4320 non-null   float64\n",
      " 38  mfcc_10         4320 non-null   float64\n",
      " 39  mfcc_10_delta   4320 non-null   float64\n",
      " 40  mfcc_11         4320 non-null   float64\n",
      " 41  mfcc_11_delta   4320 non-null   float64\n",
      " 42  mfcc_12         4320 non-null   float64\n",
      " 43  mfcc_12_delta   4320 non-null   float64\n",
      " 44  mfcc_13         4320 non-null   float64\n",
      " 45  mfcc_13_delta   4320 non-null   float64\n",
      " 46  chroma_1        4320 non-null   float64\n",
      " 47  chroma_2        4320 non-null   float64\n",
      " 48  chroma_3        4320 non-null   float64\n",
      " 49  chroma_4        4320 non-null   float64\n",
      " 50  chroma_5        4320 non-null   float64\n",
      " 51  chroma_6        4320 non-null   float64\n",
      " 52  chroma_7        4320 non-null   float64\n",
      " 53  chroma_8        4320 non-null   float64\n",
      " 54  chroma_9        4320 non-null   float64\n",
      " 55  chroma_10       4320 non-null   float64\n",
      " 56  chroma_11       4320 non-null   float64\n",
      " 57  chroma_12       4320 non-null   float64\n",
      " 58  contrast_1      4320 non-null   float64\n",
      " 59  contrast_2      4320 non-null   float64\n",
      " 60  contrast_3      4320 non-null   float64\n",
      " 61  contrast_4      4320 non-null   float64\n",
      " 62  contrast_5      4320 non-null   float64\n",
      " 63  contrast_6      4320 non-null   float64\n",
      " 64  contrast_7      4320 non-null   float64\n",
      " 65  tonnetz_1       4320 non-null   float64\n",
      " 66  tonnetz_2       4320 non-null   float64\n",
      " 67  tonnetz_3       4320 non-null   float64\n",
      " 68  tonnetz_4       4320 non-null   float64\n",
      " 69  tonnetz_5       4320 non-null   float64\n",
      " 70  tonnetz_6       4320 non-null   float64\n",
      " 71  silence_ratio   2016 non-null   float64\n",
      " 72  pitch_mean      4320 non-null   float64\n",
      " 73  energy_ratio    2304 non-null   float64\n",
      "dtypes: float64(69), int64(2), object(3)\n",
      "memory usage: 2.4+ MB\n",
      "Dataset Info: \n",
      " None\n"
     ]
    }
   ],
   "source": [
    "print(\"Dataset Shape: \", df.shape)\n",
    "print(\"Dataset Info: \\n\", df.info())"
   ]
  },
  {
   "cell_type": "code",
   "execution_count": 4,
   "metadata": {},
   "outputs": [],
   "source": [
    "df = df.drop(columns=['silence_ratio', 'energy_ratio'])"
   ]
  },
  {
   "cell_type": "code",
   "execution_count": 5,
   "metadata": {},
   "outputs": [
    {
     "name": "stdout",
     "output_type": "stream",
     "text": [
      "Total Null Values:  0\n"
     ]
    }
   ],
   "source": [
    "# Check for null value\n",
    "print(\"Total Null Values: \", df.isnull().sum().sum())"
   ]
  },
  {
   "cell_type": "markdown",
   "metadata": {},
   "source": [
    "<h3 style=\"color:purple;\">Feature Selection</h3>"
   ]
  },
  {
   "cell_type": "code",
   "execution_count": 6,
   "metadata": {},
   "outputs": [],
   "source": [
    "X = df.drop(['filename', 'actor', 'gender', 'emotion', 'emotion_code'], axis=1)\n",
    "y = df['emotion']"
   ]
  },
  {
   "cell_type": "code",
   "execution_count": 7,
   "metadata": {},
   "outputs": [],
   "source": [
    "# Select top 40 features\n",
    "from sklearn.feature_selection import SelectKBest, mutual_info_classif\n",
    "\n",
    "selector = SelectKBest(mutual_info_classif, k=40)\n",
    "X_selected = selector.fit_transform(X, y)\n",
    "selected_features = X.columns[selector.get_support()]"
   ]
  },
  {
   "cell_type": "code",
   "execution_count": 9,
   "metadata": {},
   "outputs": [],
   "source": [
    "# Create final DataFrame\n",
    "df1 = pd.concat([\n",
    "    df[['filename', 'actor', 'gender', 'emotion','emotion_code']],\n",
    "    pd.DataFrame(X_selected, columns=selected_features)\n",
    "], axis=1)"
   ]
  },
  {
   "cell_type": "code",
   "execution_count": 10,
   "metadata": {},
   "outputs": [],
   "source": [
    "# Save to CSV\n",
    "df1.to_csv(\"audio_metadata_enhanced.csv\", index=False)"
   ]
  },
  {
   "cell_type": "code",
   "execution_count": 11,
   "metadata": {},
   "outputs": [
    {
     "name": "stdout",
     "output_type": "stream",
     "text": [
      "\n",
      "Enhanced dataset shape: (4320, 45)\n",
      "\n",
      "Sample features:\n"
     ]
    },
    {
     "data": {
      "text/html": [
       "<div>\n",
       "<style scoped>\n",
       "    .dataframe tbody tr th:only-of-type {\n",
       "        vertical-align: middle;\n",
       "    }\n",
       "\n",
       "    .dataframe tbody tr th {\n",
       "        vertical-align: top;\n",
       "    }\n",
       "\n",
       "    .dataframe thead th {\n",
       "        text-align: right;\n",
       "    }\n",
       "</style>\n",
       "<table border=\"1\" class=\"dataframe\">\n",
       "  <thead>\n",
       "    <tr style=\"text-align: right;\">\n",
       "      <th></th>\n",
       "      <th>filename</th>\n",
       "      <th>actor</th>\n",
       "      <th>gender</th>\n",
       "      <th>emotion</th>\n",
       "      <th>emotion_code</th>\n",
       "      <th>duration</th>\n",
       "      <th>loudness</th>\n",
       "      <th>voice_ratio</th>\n",
       "      <th>centroid_mean</th>\n",
       "      <th>centroid_std</th>\n",
       "      <th>...</th>\n",
       "      <th>mfcc_13</th>\n",
       "      <th>contrast_1</th>\n",
       "      <th>contrast_2</th>\n",
       "      <th>contrast_3</th>\n",
       "      <th>contrast_4</th>\n",
       "      <th>contrast_5</th>\n",
       "      <th>contrast_6</th>\n",
       "      <th>tonnetz_2</th>\n",
       "      <th>tonnetz_4</th>\n",
       "      <th>pitch_mean</th>\n",
       "    </tr>\n",
       "  </thead>\n",
       "  <tbody>\n",
       "    <tr>\n",
       "      <th>0</th>\n",
       "      <td>03-01-07-01-01-02-18.wav</td>\n",
       "      <td>18</td>\n",
       "      <td>male</td>\n",
       "      <td>disgust</td>\n",
       "      <td>7</td>\n",
       "      <td>2.176</td>\n",
       "      <td>-17.363924</td>\n",
       "      <td>0.764706</td>\n",
       "      <td>3103.861734</td>\n",
       "      <td>1133.595952</td>\n",
       "      <td>...</td>\n",
       "      <td>-11.518904</td>\n",
       "      <td>28.627183</td>\n",
       "      <td>18.279906</td>\n",
       "      <td>20.792193</td>\n",
       "      <td>18.526170</td>\n",
       "      <td>19.125356</td>\n",
       "      <td>18.428129</td>\n",
       "      <td>-0.025689</td>\n",
       "      <td>0.037315</td>\n",
       "      <td>2245.6667</td>\n",
       "    </tr>\n",
       "    <tr>\n",
       "      <th>1</th>\n",
       "      <td>03-01-07-01-01-02-18.wav_stretch</td>\n",
       "      <td>18</td>\n",
       "      <td>male</td>\n",
       "      <td>disgust</td>\n",
       "      <td>7</td>\n",
       "      <td>2.720</td>\n",
       "      <td>-16.133003</td>\n",
       "      <td>0.776471</td>\n",
       "      <td>3117.783534</td>\n",
       "      <td>1044.945930</td>\n",
       "      <td>...</td>\n",
       "      <td>-11.832370</td>\n",
       "      <td>29.983701</td>\n",
       "      <td>20.097599</td>\n",
       "      <td>22.664888</td>\n",
       "      <td>20.297126</td>\n",
       "      <td>20.495549</td>\n",
       "      <td>19.437231</td>\n",
       "      <td>-0.029710</td>\n",
       "      <td>0.044577</td>\n",
       "      <td>2203.0874</td>\n",
       "    </tr>\n",
       "    <tr>\n",
       "      <th>2</th>\n",
       "      <td>03-01-07-01-01-02-18.wav_shift</td>\n",
       "      <td>18</td>\n",
       "      <td>male</td>\n",
       "      <td>disgust</td>\n",
       "      <td>7</td>\n",
       "      <td>2.176</td>\n",
       "      <td>-16.485405</td>\n",
       "      <td>0.823529</td>\n",
       "      <td>3229.374024</td>\n",
       "      <td>1080.269650</td>\n",
       "      <td>...</td>\n",
       "      <td>-21.810642</td>\n",
       "      <td>26.807913</td>\n",
       "      <td>20.287054</td>\n",
       "      <td>22.322285</td>\n",
       "      <td>20.867512</td>\n",
       "      <td>19.900085</td>\n",
       "      <td>19.715297</td>\n",
       "      <td>0.004281</td>\n",
       "      <td>-0.051420</td>\n",
       "      <td>2135.2737</td>\n",
       "    </tr>\n",
       "    <tr>\n",
       "      <th>3</th>\n",
       "      <td>03-01-05-01-02-01-18.wav</td>\n",
       "      <td>18</td>\n",
       "      <td>male</td>\n",
       "      <td>angry</td>\n",
       "      <td>5</td>\n",
       "      <td>1.632</td>\n",
       "      <td>-12.006447</td>\n",
       "      <td>0.980392</td>\n",
       "      <td>3149.329740</td>\n",
       "      <td>1393.901212</td>\n",
       "      <td>...</td>\n",
       "      <td>-12.662823</td>\n",
       "      <td>26.270572</td>\n",
       "      <td>21.029040</td>\n",
       "      <td>22.985853</td>\n",
       "      <td>19.640901</td>\n",
       "      <td>20.028976</td>\n",
       "      <td>20.298485</td>\n",
       "      <td>-0.016009</td>\n",
       "      <td>-0.020919</td>\n",
       "      <td>2139.2192</td>\n",
       "    </tr>\n",
       "    <tr>\n",
       "      <th>4</th>\n",
       "      <td>03-01-05-01-02-01-18.wav_stretch</td>\n",
       "      <td>18</td>\n",
       "      <td>male</td>\n",
       "      <td>angry</td>\n",
       "      <td>5</td>\n",
       "      <td>2.040</td>\n",
       "      <td>-12.320189</td>\n",
       "      <td>0.988235</td>\n",
       "      <td>3173.226784</td>\n",
       "      <td>1353.186854</td>\n",
       "      <td>...</td>\n",
       "      <td>-12.860024</td>\n",
       "      <td>27.282658</td>\n",
       "      <td>22.011791</td>\n",
       "      <td>23.111118</td>\n",
       "      <td>20.662071</td>\n",
       "      <td>21.234720</td>\n",
       "      <td>21.520669</td>\n",
       "      <td>-0.022524</td>\n",
       "      <td>-0.022695</td>\n",
       "      <td>2079.5986</td>\n",
       "    </tr>\n",
       "  </tbody>\n",
       "</table>\n",
       "<p>5 rows × 45 columns</p>\n",
       "</div>"
      ],
      "text/plain": [
       "                           filename  actor gender  emotion  emotion_code  \\\n",
       "0          03-01-07-01-01-02-18.wav     18   male  disgust             7   \n",
       "1  03-01-07-01-01-02-18.wav_stretch     18   male  disgust             7   \n",
       "2    03-01-07-01-01-02-18.wav_shift     18   male  disgust             7   \n",
       "3          03-01-05-01-02-01-18.wav     18   male    angry             5   \n",
       "4  03-01-05-01-02-01-18.wav_stretch     18   male    angry             5   \n",
       "\n",
       "   duration   loudness  voice_ratio  centroid_mean  centroid_std  ...  \\\n",
       "0     2.176 -17.363924     0.764706    3103.861734   1133.595952  ...   \n",
       "1     2.720 -16.133003     0.776471    3117.783534   1044.945930  ...   \n",
       "2     2.176 -16.485405     0.823529    3229.374024   1080.269650  ...   \n",
       "3     1.632 -12.006447     0.980392    3149.329740   1393.901212  ...   \n",
       "4     2.040 -12.320189     0.988235    3173.226784   1353.186854  ...   \n",
       "\n",
       "     mfcc_13  contrast_1  contrast_2  contrast_3  contrast_4  contrast_5  \\\n",
       "0 -11.518904   28.627183   18.279906   20.792193   18.526170   19.125356   \n",
       "1 -11.832370   29.983701   20.097599   22.664888   20.297126   20.495549   \n",
       "2 -21.810642   26.807913   20.287054   22.322285   20.867512   19.900085   \n",
       "3 -12.662823   26.270572   21.029040   22.985853   19.640901   20.028976   \n",
       "4 -12.860024   27.282658   22.011791   23.111118   20.662071   21.234720   \n",
       "\n",
       "   contrast_6  tonnetz_2  tonnetz_4  pitch_mean  \n",
       "0   18.428129  -0.025689   0.037315   2245.6667  \n",
       "1   19.437231  -0.029710   0.044577   2203.0874  \n",
       "2   19.715297   0.004281  -0.051420   2135.2737  \n",
       "3   20.298485  -0.016009  -0.020919   2139.2192  \n",
       "4   21.520669  -0.022524  -0.022695   2079.5986  \n",
       "\n",
       "[5 rows x 45 columns]"
      ]
     },
     "metadata": {},
     "output_type": "display_data"
    }
   ],
   "source": [
    "print(f\"\\nEnhanced dataset shape: {df1.shape}\")\n",
    "print(\"\\nSample features:\")\n",
    "display(df1.head())"
   ]
  },
  {
   "cell_type": "markdown",
   "metadata": {
    "execution": {
     "iopub.execute_input": "2025-07-12T05:44:51.428877Z",
     "iopub.status.busy": "2025-07-12T05:44:51.428494Z",
     "iopub.status.idle": "2025-07-12T05:44:51.435129Z",
     "shell.execute_reply": "2025-07-12T05:44:51.434074Z",
     "shell.execute_reply.started": "2025-07-12T05:44:51.428834Z"
    }
   },
   "source": [
    "<h2 style=\"color:purple;\">Perform EDA</h2>"
   ]
  },
  {
   "cell_type": "markdown",
   "metadata": {},
   "source": [
    "<h3 style=\"color:purple;\">Duration, Sampling Rate and Amplitude Stats</h3>"
   ]
  },
  {
   "cell_type": "code",
   "execution_count": 12,
   "metadata": {},
   "outputs": [],
   "source": [
    "numeric_col = df.select_dtypes(['int64', 'float64']).columns.to_list()"
   ]
  },
  {
   "cell_type": "code",
   "execution_count": 13,
   "metadata": {},
   "outputs": [
    {
     "name": "stdout",
     "output_type": "stream",
     "text": [
      "\n",
      "Summary Statstics (Numeric Data):\n"
     ]
    },
    {
     "data": {
      "text/html": [
       "<div>\n",
       "<style scoped>\n",
       "    .dataframe tbody tr th:only-of-type {\n",
       "        vertical-align: middle;\n",
       "    }\n",
       "\n",
       "    .dataframe tbody tr th {\n",
       "        vertical-align: top;\n",
       "    }\n",
       "\n",
       "    .dataframe thead th {\n",
       "        text-align: right;\n",
       "    }\n",
       "</style>\n",
       "<table border=\"1\" class=\"dataframe\">\n",
       "  <thead>\n",
       "    <tr style=\"text-align: right;\">\n",
       "      <th></th>\n",
       "      <th>actor</th>\n",
       "      <th>emotion_code</th>\n",
       "      <th>duration</th>\n",
       "      <th>loudness</th>\n",
       "      <th>voice_ratio</th>\n",
       "      <th>centroid_mean</th>\n",
       "      <th>centroid_std</th>\n",
       "      <th>centroid_skew</th>\n",
       "      <th>centroid_kurt</th>\n",
       "      <th>rolloff_mean</th>\n",
       "      <th>...</th>\n",
       "      <th>contrast_5</th>\n",
       "      <th>contrast_6</th>\n",
       "      <th>contrast_7</th>\n",
       "      <th>tonnetz_1</th>\n",
       "      <th>tonnetz_2</th>\n",
       "      <th>tonnetz_3</th>\n",
       "      <th>tonnetz_4</th>\n",
       "      <th>tonnetz_5</th>\n",
       "      <th>tonnetz_6</th>\n",
       "      <th>pitch_mean</th>\n",
       "    </tr>\n",
       "  </thead>\n",
       "  <tbody>\n",
       "    <tr>\n",
       "      <th>count</th>\n",
       "      <td>4320.000000</td>\n",
       "      <td>4320.000000</td>\n",
       "      <td>4320.000000</td>\n",
       "      <td>4320.000000</td>\n",
       "      <td>4320.000000</td>\n",
       "      <td>4320.000000</td>\n",
       "      <td>4320.000000</td>\n",
       "      <td>4320.000000</td>\n",
       "      <td>4320.000000</td>\n",
       "      <td>4320.000000</td>\n",
       "      <td>...</td>\n",
       "      <td>4320.000000</td>\n",
       "      <td>4320.000000</td>\n",
       "      <td>4320.000000</td>\n",
       "      <td>4320.000000</td>\n",
       "      <td>4320.000000</td>\n",
       "      <td>4320.000000</td>\n",
       "      <td>4320.000000</td>\n",
       "      <td>4320.000000</td>\n",
       "      <td>4320.000000</td>\n",
       "      <td>4320.000000</td>\n",
       "    </tr>\n",
       "    <tr>\n",
       "      <th>mean</th>\n",
       "      <td>12.500000</td>\n",
       "      <td>4.733333</td>\n",
       "      <td>1.945654</td>\n",
       "      <td>-14.098445</td>\n",
       "      <td>0.903118</td>\n",
       "      <td>3302.364760</td>\n",
       "      <td>1028.186989</td>\n",
       "      <td>0.629995</td>\n",
       "      <td>-0.413826</td>\n",
       "      <td>5318.008881</td>\n",
       "      <td>...</td>\n",
       "      <td>19.819568</td>\n",
       "      <td>20.470042</td>\n",
       "      <td>51.652917</td>\n",
       "      <td>-0.007272</td>\n",
       "      <td>0.006009</td>\n",
       "      <td>0.007474</td>\n",
       "      <td>-0.002234</td>\n",
       "      <td>-0.000844</td>\n",
       "      <td>-0.001664</td>\n",
       "      <td>2155.519157</td>\n",
       "    </tr>\n",
       "    <tr>\n",
       "      <th>std</th>\n",
       "      <td>6.922988</td>\n",
       "      <td>2.174853</td>\n",
       "      <td>0.477625</td>\n",
       "      <td>2.339286</td>\n",
       "      <td>0.107825</td>\n",
       "      <td>286.897233</td>\n",
       "      <td>199.396243</td>\n",
       "      <td>0.377115</td>\n",
       "      <td>0.663149</td>\n",
       "      <td>446.230134</td>\n",
       "      <td>...</td>\n",
       "      <td>1.471168</td>\n",
       "      <td>1.723034</td>\n",
       "      <td>1.675522</td>\n",
       "      <td>0.027421</td>\n",
       "      <td>0.026301</td>\n",
       "      <td>0.040355</td>\n",
       "      <td>0.039393</td>\n",
       "      <td>0.013298</td>\n",
       "      <td>0.013444</td>\n",
       "      <td>158.128082</td>\n",
       "    </tr>\n",
       "    <tr>\n",
       "      <th>min</th>\n",
       "      <td>1.000000</td>\n",
       "      <td>1.000000</td>\n",
       "      <td>0.928000</td>\n",
       "      <td>-26.728384</td>\n",
       "      <td>0.360563</td>\n",
       "      <td>2473.371392</td>\n",
       "      <td>358.819717</td>\n",
       "      <td>-0.949714</td>\n",
       "      <td>-1.595854</td>\n",
       "      <td>3938.020833</td>\n",
       "      <td>...</td>\n",
       "      <td>15.491313</td>\n",
       "      <td>15.950971</td>\n",
       "      <td>46.566999</td>\n",
       "      <td>-0.147232</td>\n",
       "      <td>-0.114218</td>\n",
       "      <td>-0.182839</td>\n",
       "      <td>-0.164397</td>\n",
       "      <td>-0.060432</td>\n",
       "      <td>-0.052691</td>\n",
       "      <td>1521.068000</td>\n",
       "    </tr>\n",
       "    <tr>\n",
       "      <th>25%</th>\n",
       "      <td>6.750000</td>\n",
       "      <td>3.000000</td>\n",
       "      <td>1.624000</td>\n",
       "      <td>-14.991534</td>\n",
       "      <td>0.860000</td>\n",
       "      <td>3097.115256</td>\n",
       "      <td>893.582285</td>\n",
       "      <td>0.388913</td>\n",
       "      <td>-0.869725</td>\n",
       "      <td>4993.462325</td>\n",
       "      <td>...</td>\n",
       "      <td>18.825673</td>\n",
       "      <td>19.225958</td>\n",
       "      <td>50.479908</td>\n",
       "      <td>-0.023303</td>\n",
       "      <td>-0.010342</td>\n",
       "      <td>-0.016793</td>\n",
       "      <td>-0.027166</td>\n",
       "      <td>-0.008894</td>\n",
       "      <td>-0.009831</td>\n",
       "      <td>2054.048900</td>\n",
       "    </tr>\n",
       "    <tr>\n",
       "      <th>50%</th>\n",
       "      <td>12.500000</td>\n",
       "      <td>5.000000</td>\n",
       "      <td>1.856000</td>\n",
       "      <td>-13.505986</td>\n",
       "      <td>0.948148</td>\n",
       "      <td>3297.160134</td>\n",
       "      <td>1025.807380</td>\n",
       "      <td>0.645194</td>\n",
       "      <td>-0.555133</td>\n",
       "      <td>5292.632665</td>\n",
       "      <td>...</td>\n",
       "      <td>19.718590</td>\n",
       "      <td>20.335233</td>\n",
       "      <td>51.575106</td>\n",
       "      <td>-0.007523</td>\n",
       "      <td>0.005765</td>\n",
       "      <td>0.007613</td>\n",
       "      <td>-0.002458</td>\n",
       "      <td>-0.000540</td>\n",
       "      <td>-0.001603</td>\n",
       "      <td>2158.635650</td>\n",
       "    </tr>\n",
       "    <tr>\n",
       "      <th>75%</th>\n",
       "      <td>18.250000</td>\n",
       "      <td>7.000000</td>\n",
       "      <td>2.176000</td>\n",
       "      <td>-12.545161</td>\n",
       "      <td>0.979167</td>\n",
       "      <td>3489.779394</td>\n",
       "      <td>1158.723941</td>\n",
       "      <td>0.890583</td>\n",
       "      <td>-0.109900</td>\n",
       "      <td>5631.736411</td>\n",
       "      <td>...</td>\n",
       "      <td>20.700880</td>\n",
       "      <td>21.543288</td>\n",
       "      <td>52.769577</td>\n",
       "      <td>0.009264</td>\n",
       "      <td>0.021513</td>\n",
       "      <td>0.032190</td>\n",
       "      <td>0.022419</td>\n",
       "      <td>0.007525</td>\n",
       "      <td>0.006580</td>\n",
       "      <td>2262.800400</td>\n",
       "    </tr>\n",
       "    <tr>\n",
       "      <th>max</th>\n",
       "      <td>24.000000</td>\n",
       "      <td>8.000000</td>\n",
       "      <td>5.389938</td>\n",
       "      <td>-9.608130</td>\n",
       "      <td>1.000000</td>\n",
       "      <td>4544.164645</td>\n",
       "      <td>1690.564096</td>\n",
       "      <td>1.940962</td>\n",
       "      <td>4.071066</td>\n",
       "      <td>6714.799860</td>\n",
       "      <td>...</td>\n",
       "      <td>26.635531</td>\n",
       "      <td>27.077079</td>\n",
       "      <td>58.075300</td>\n",
       "      <td>0.113690</td>\n",
       "      <td>0.146009</td>\n",
       "      <td>0.168933</td>\n",
       "      <td>0.166233</td>\n",
       "      <td>0.050976</td>\n",
       "      <td>0.053031</td>\n",
       "      <td>2665.607200</td>\n",
       "    </tr>\n",
       "  </tbody>\n",
       "</table>\n",
       "<p>8 rows × 69 columns</p>\n",
       "</div>"
      ],
      "text/plain": [
       "             actor  emotion_code     duration     loudness  voice_ratio  \\\n",
       "count  4320.000000   4320.000000  4320.000000  4320.000000  4320.000000   \n",
       "mean     12.500000      4.733333     1.945654   -14.098445     0.903118   \n",
       "std       6.922988      2.174853     0.477625     2.339286     0.107825   \n",
       "min       1.000000      1.000000     0.928000   -26.728384     0.360563   \n",
       "25%       6.750000      3.000000     1.624000   -14.991534     0.860000   \n",
       "50%      12.500000      5.000000     1.856000   -13.505986     0.948148   \n",
       "75%      18.250000      7.000000     2.176000   -12.545161     0.979167   \n",
       "max      24.000000      8.000000     5.389938    -9.608130     1.000000   \n",
       "\n",
       "       centroid_mean  centroid_std  centroid_skew  centroid_kurt  \\\n",
       "count    4320.000000   4320.000000    4320.000000    4320.000000   \n",
       "mean     3302.364760   1028.186989       0.629995      -0.413826   \n",
       "std       286.897233    199.396243       0.377115       0.663149   \n",
       "min      2473.371392    358.819717      -0.949714      -1.595854   \n",
       "25%      3097.115256    893.582285       0.388913      -0.869725   \n",
       "50%      3297.160134   1025.807380       0.645194      -0.555133   \n",
       "75%      3489.779394   1158.723941       0.890583      -0.109900   \n",
       "max      4544.164645   1690.564096       1.940962       4.071066   \n",
       "\n",
       "       rolloff_mean  ...   contrast_5   contrast_6   contrast_7    tonnetz_1  \\\n",
       "count   4320.000000  ...  4320.000000  4320.000000  4320.000000  4320.000000   \n",
       "mean    5318.008881  ...    19.819568    20.470042    51.652917    -0.007272   \n",
       "std      446.230134  ...     1.471168     1.723034     1.675522     0.027421   \n",
       "min     3938.020833  ...    15.491313    15.950971    46.566999    -0.147232   \n",
       "25%     4993.462325  ...    18.825673    19.225958    50.479908    -0.023303   \n",
       "50%     5292.632665  ...    19.718590    20.335233    51.575106    -0.007523   \n",
       "75%     5631.736411  ...    20.700880    21.543288    52.769577     0.009264   \n",
       "max     6714.799860  ...    26.635531    27.077079    58.075300     0.113690   \n",
       "\n",
       "         tonnetz_2    tonnetz_3    tonnetz_4    tonnetz_5    tonnetz_6  \\\n",
       "count  4320.000000  4320.000000  4320.000000  4320.000000  4320.000000   \n",
       "mean      0.006009     0.007474    -0.002234    -0.000844    -0.001664   \n",
       "std       0.026301     0.040355     0.039393     0.013298     0.013444   \n",
       "min      -0.114218    -0.182839    -0.164397    -0.060432    -0.052691   \n",
       "25%      -0.010342    -0.016793    -0.027166    -0.008894    -0.009831   \n",
       "50%       0.005765     0.007613    -0.002458    -0.000540    -0.001603   \n",
       "75%       0.021513     0.032190     0.022419     0.007525     0.006580   \n",
       "max       0.146009     0.168933     0.166233     0.050976     0.053031   \n",
       "\n",
       "        pitch_mean  \n",
       "count  4320.000000  \n",
       "mean   2155.519157  \n",
       "std     158.128082  \n",
       "min    1521.068000  \n",
       "25%    2054.048900  \n",
       "50%    2158.635650  \n",
       "75%    2262.800400  \n",
       "max    2665.607200  \n",
       "\n",
       "[8 rows x 69 columns]"
      ]
     },
     "metadata": {},
     "output_type": "display_data"
    }
   ],
   "source": [
    "print(\"\\nSummary Statstics (Numeric Data):\")\n",
    "display(df[numeric_col].describe())"
   ]
  },
  {
   "cell_type": "markdown",
   "metadata": {},
   "source": [
    "<h3 style=\"color:purple;\">Histogram showing Distribution of Duration and Loudness</h3>\n"
   ]
  },
  {
   "cell_type": "code",
   "execution_count": 14,
   "metadata": {},
   "outputs": [
    {
     "data": {
      "image/png": "[encoded data removed]",
      "text/plain": [
       "<Figure size 1400x400 with 2 Axes>"
      ]
     },
     "metadata": {},
     "output_type": "display_data"
    }
   ],
   "source": [
    "plt.figure(figsize=(14, 4))\n",
    "plt.subplot(1, 2, 1)\n",
    "sns.histplot(df['duration'], bins=30, kde=True)\n",
    "plt.title(\"Duration Distribution\")\n",
    "\n",
    "plt.subplot(1, 2, 2)\n",
    "sns.histplot(df['loudness'], bins=30, kde=True, color='orange')\n",
    "plt.title(\"Loudness Distribution\")\n",
    "\n",
    "plt.suptitle(\"Duration VS Loudness Distribution\")\n",
    "plt.show()"
   ]
  },
  {
   "cell_type": "markdown",
   "metadata": {
    "execution": {
     "iopub.execute_input": "2025-07-12T06:07:21.457426Z",
     "iopub.status.busy": "2025-07-12T06:07:21.456589Z",
     "iopub.status.idle": "2025-07-12T06:07:21.464388Z",
     "shell.execute_reply": "2025-07-12T06:07:21.463421Z",
     "shell.execute_reply.started": "2025-07-12T06:07:21.457399Z"
    }
   },
   "source": [
    "<h3 style=\"color:purple;\">Emotion Distribution</h3>\n"
   ]
  },
  {
   "cell_type": "code",
   "execution_count": 15,
   "metadata": {},
   "outputs": [
    {
     "data": {
      "image/png": "[encoded data removed]",
      "text/plain": [
       "<Figure size 800x400 with 1 Axes>"
      ]
     },
     "metadata": {},
     "output_type": "display_data"
    }
   ],
   "source": [
    "plt.figure(figsize=(8, 4))\n",
    "sns.countplot(data=df, x='emotion', order=sorted(df['emotion'].unique()), palette='viridis')\n",
    "plt.title(\"Emotion Distribution\")\n",
    "plt.xticks(rotation=45)\n",
    "plt.grid(axis='y', linestyle='--', alpha=0.6)\n",
    "plt.tight_layout()\n",
    "plt.show()"
   ]
  },
  {
   "cell_type": "markdown",
   "metadata": {},
   "source": [
    "<h3 style=\"color:purple;\">Actors & Gender Spread</h3>\n"
   ]
  },
  {
   "cell_type": "markdown",
   "metadata": {},
   "source": [
    "<h4 style=\"color:purple;\">Actors Count</h4>\n"
   ]
  },
  {
   "cell_type": "markdown",
   "metadata": {
    "execution": {
     "iopub.execute_input": "2025-07-12T07:46:43.123411Z",
     "iopub.status.busy": "2025-07-12T07:46:43.123098Z",
     "iopub.status.idle": "2025-07-12T07:46:43.129149Z",
     "shell.execute_reply": "2025-07-12T07:46:43.128002Z",
     "shell.execute_reply.started": "2025-07-12T07:46:43.123389Z"
    }
   },
   "source": [
    "<h4 style=\"color:purple;\">Gender Distribution</h4>\n"
   ]
  },
  {
   "cell_type": "code",
   "execution_count": 16,
   "metadata": {},
   "outputs": [
    {
     "data": {
      "image/png": "[encoded data removed]",
      "text/plain": [
       "<Figure size 1000x400 with 1 Axes>"
      ]
     },
     "metadata": {},
     "output_type": "display_data"
    }
   ],
   "source": [
    "plt.figure(figsize=(10, 4))\n",
    "sns.countplot(data=df, x='gender', palette='Set2')\n",
    "plt.title('Gender Distribution')\n",
    "plt.grid(axis='y', linestyle='--', alpha=0.6)\n",
    "plt.tight_layout()\n",
    "plt.show()"
   ]
  },
  {
   "cell_type": "markdown",
   "metadata": {},
   "source": [
    "<h3 style=\"color:purple;\">Box plot for Duration per Emotion</h3>"
   ]
  },
  {
   "cell_type": "code",
   "execution_count": 17,
   "metadata": {},
   "outputs": [
    {
     "data": {
      "image/png": "[encoded data removed]",
      "text/plain": [
       "<Figure size 1000x500 with 1 Axes>"
      ]
     },
     "metadata": {},
     "output_type": "display_data"
    }
   ],
   "source": [
    "plt.figure(figsize=(10, 5))\n",
    "sns.boxplot(data=df, x='emotion', y='duration', palette='coolwarm')\n",
    "plt.title(\"Duration by Emotion\")\n",
    "plt.xticks(rotation=45)\n",
    "plt.tight_layout()\n",
    "plt.show()"
   ]
  },
  {
   "cell_type": "code",
   "execution_count": 18,
   "metadata": {},
   "outputs": [
    {
     "data": {
      "text/html": [
       "<div>\n",
       "<style scoped>\n",
       "    .dataframe tbody tr th:only-of-type {\n",
       "        vertical-align: middle;\n",
       "    }\n",
       "\n",
       "    .dataframe tbody tr th {\n",
       "        vertical-align: top;\n",
       "    }\n",
       "\n",
       "    .dataframe thead th {\n",
       "        text-align: right;\n",
       "    }\n",
       "</style>\n",
       "<table border=\"1\" class=\"dataframe\">\n",
       "  <thead>\n",
       "    <tr style=\"text-align: right;\">\n",
       "      <th></th>\n",
       "      <th>filename</th>\n",
       "      <th>gender</th>\n",
       "      <th>emotion</th>\n",
       "    </tr>\n",
       "  </thead>\n",
       "  <tbody>\n",
       "    <tr>\n",
       "      <th>0</th>\n",
       "      <td>03-01-07-01-01-02-18.wav</td>\n",
       "      <td>male</td>\n",
       "      <td>disgust</td>\n",
       "    </tr>\n",
       "    <tr>\n",
       "      <th>1</th>\n",
       "      <td>03-01-07-01-01-02-18.wav_stretch</td>\n",
       "      <td>male</td>\n",
       "      <td>disgust</td>\n",
       "    </tr>\n",
       "    <tr>\n",
       "      <th>2</th>\n",
       "      <td>03-01-07-01-01-02-18.wav_shift</td>\n",
       "      <td>male</td>\n",
       "      <td>disgust</td>\n",
       "    </tr>\n",
       "    <tr>\n",
       "      <th>3</th>\n",
       "      <td>03-01-05-01-02-01-18.wav</td>\n",
       "      <td>male</td>\n",
       "      <td>angry</td>\n",
       "    </tr>\n",
       "    <tr>\n",
       "      <th>4</th>\n",
       "      <td>03-01-05-01-02-01-18.wav_stretch</td>\n",
       "      <td>male</td>\n",
       "      <td>angry</td>\n",
       "    </tr>\n",
       "    <tr>\n",
       "      <th>...</th>\n",
       "      <td>...</td>\n",
       "      <td>...</td>\n",
       "      <td>...</td>\n",
       "    </tr>\n",
       "    <tr>\n",
       "      <th>4315</th>\n",
       "      <td>03-01-07-02-02-02-21.wav_stretch</td>\n",
       "      <td>female</td>\n",
       "      <td>disgust</td>\n",
       "    </tr>\n",
       "    <tr>\n",
       "      <th>4316</th>\n",
       "      <td>03-01-07-02-02-02-21.wav_shift</td>\n",
       "      <td>female</td>\n",
       "      <td>disgust</td>\n",
       "    </tr>\n",
       "    <tr>\n",
       "      <th>4317</th>\n",
       "      <td>03-01-07-01-02-01-21.wav</td>\n",
       "      <td>female</td>\n",
       "      <td>disgust</td>\n",
       "    </tr>\n",
       "    <tr>\n",
       "      <th>4318</th>\n",
       "      <td>03-01-07-01-02-01-21.wav_stretch</td>\n",
       "      <td>female</td>\n",
       "      <td>disgust</td>\n",
       "    </tr>\n",
       "    <tr>\n",
       "      <th>4319</th>\n",
       "      <td>03-01-07-01-02-01-21.wav_shift</td>\n",
       "      <td>female</td>\n",
       "      <td>disgust</td>\n",
       "    </tr>\n",
       "  </tbody>\n",
       "</table>\n",
       "<p>4320 rows × 3 columns</p>\n",
       "</div>"
      ],
      "text/plain": [
       "                              filename  gender  emotion\n",
       "0             03-01-07-01-01-02-18.wav    male  disgust\n",
       "1     03-01-07-01-01-02-18.wav_stretch    male  disgust\n",
       "2       03-01-07-01-01-02-18.wav_shift    male  disgust\n",
       "3             03-01-05-01-02-01-18.wav    male    angry\n",
       "4     03-01-05-01-02-01-18.wav_stretch    male    angry\n",
       "...                                ...     ...      ...\n",
       "4315  03-01-07-02-02-02-21.wav_stretch  female  disgust\n",
       "4316    03-01-07-02-02-02-21.wav_shift  female  disgust\n",
       "4317          03-01-07-01-02-01-21.wav  female  disgust\n",
       "4318  03-01-07-01-02-01-21.wav_stretch  female  disgust\n",
       "4319    03-01-07-01-02-01-21.wav_shift  female  disgust\n",
       "\n",
       "[4320 rows x 3 columns]"
      ]
     },
     "execution_count": 18,
     "metadata": {},
     "output_type": "execute_result"
    }
   ],
   "source": [
    "df.select_dtypes('object')"
   ]
  },
  {
   "cell_type": "markdown",
   "metadata": {},
   "source": [
    "<h2 style=\"color:purple;\">Data Scaling</h2>"
   ]
  },
  {
   "cell_type": "code",
   "execution_count": 19,
   "metadata": {},
   "outputs": [],
   "source": [
    "from sklearn.preprocessing import StandardScaler\n",
    "\n",
    "scaler = StandardScaler()\n",
    "X_scaled = scaler.fit_transform(df1[selected_features])"
   ]
  },
  {
   "cell_type": "code",
   "execution_count": 20,
   "metadata": {},
   "outputs": [],
   "source": [
    "# Prepare for modeling\n",
    "labels = df1['emotion'].values\n",
    "groups = df1['actor'].values"
   ]
  },
  {
   "cell_type": "code",
   "execution_count": 21,
   "metadata": {},
   "outputs": [
    {
     "data": {
      "text/plain": [
       "['../model/SelectKBest-40-features.pkl']"
      ]
     },
     "execution_count": 21,
     "metadata": {},
     "output_type": "execute_result"
    }
   ],
   "source": [
    "import joblib\n",
    "joblib.dump(scaler, \"../model/Scaler.pkl\")\n",
    "joblib.dump(selector, \"../model/SelectKBest-40-features.pkl\")"
   ]
  },
  {
   "cell_type": "code",
   "execution_count": 22,
   "metadata": {},
   "outputs": [],
   "source": [
    "np.save(\"../model/scaled_features.npy\", X_scaled)\n",
    "np.save(\"../model/labels.npy\", labels)\n",
    "np.save(\"../model/groups.npy\", groups)"
   ]
  },
  {
   "cell_type": "code",
   "execution_count": 23,
   "metadata": {},
   "outputs": [
    {
     "name": "stdout",
     "output_type": "stream",
     "text": [
      "Total features (40): ['duration', 'loudness', 'voice_ratio', 'centroid_mean', 'centroid_std', 'centroid_skew', 'centroid_kurt', 'rolloff_mean', 'rolloff_std', 'rolloff_skew', 'bandwidth_mean', 'bandwidth_std', 'bandwidth_skew', 'mfcc_1', 'mfcc_2', 'mfcc_2_delta', 'mfcc_3', 'mfcc_4', 'mfcc_4_delta', 'mfcc_5', 'mfcc_5_delta', 'mfcc_6', 'mfcc_7', 'mfcc_7_delta', 'mfcc_8', 'mfcc_8_delta', 'mfcc_9', 'mfcc_10', 'mfcc_11', 'mfcc_12', 'mfcc_13', 'contrast_1', 'contrast_2', 'contrast_3', 'contrast_4', 'contrast_5', 'contrast_6', 'tonnetz_2', 'tonnetz_4', 'pitch_mean']\n"
     ]
    }
   ],
   "source": [
    "print(f\"Total features (40): {list(selected_features)}\")"
   ]
  },
  {
   "cell_type": "markdown",
   "metadata": {},
   "source": [
    "<h2 style=\"color:purple;\">Split the metadata into train/val/test</h2>"
   ]
  },
  {
   "cell_type": "code",
   "execution_count": 24,
   "metadata": {},
   "outputs": [],
   "source": [
    "from sklearn.model_selection import train_test_split"
   ]
  },
  {
   "cell_type": "code",
   "execution_count": 25,
   "metadata": {},
   "outputs": [],
   "source": [
    "# Group unique actors\n",
    "unique_actors = df1['actor'].unique()"
   ]
  },
  {
   "cell_type": "code",
   "execution_count": 26,
   "metadata": {},
   "outputs": [],
   "source": [
    "# Split actors into train/val/test \n",
    "train_actors, testval_actors = train_test_split(unique_actors, test_size = 0.3, random_state = 42)\n",
    "val_actors, test_actors = train_test_split(testval_actors, test_size=0.5, random_state=42)"
   ]
  },
  {
   "cell_type": "code",
   "execution_count": 27,
   "metadata": {},
   "outputs": [
    {
     "name": "stdout",
     "output_type": "stream",
     "text": [
      "Train Actors: [20  9  5 12  4  7  1 15 22  8 21 24 16  6 19 14]\n",
      "Test Actors: [11 10 13 23]\n"
     ]
    }
   ],
   "source": [
    "print(f\"Train Actors: {train_actors}\")\n",
    "print(f\"Test Actors: {test_actors}\")"
   ]
  },
  {
   "cell_type": "code",
   "execution_count": 28,
   "metadata": {},
   "outputs": [],
   "source": [
    "# filter by actor\n",
    "\n",
    "train_df = df1[df1['actor'].isin(train_actors)]\n",
    "val_df = df1[df1['actor'].isin(val_actors)]\n",
    "test_df = df1[df1['actor'].isin(test_actors)]"
   ]
  },
  {
   "cell_type": "code",
   "execution_count": 29,
   "metadata": {},
   "outputs": [
    {
     "name": "stdout",
     "output_type": "stream",
     "text": [
      "\n",
      "Train Emotion Counts:\n",
      " happy        0.133333\n",
      "fearful      0.133333\n",
      "disgust      0.133333\n",
      "surprised    0.133333\n",
      "sad          0.133333\n",
      "angry        0.133333\n",
      "calm         0.133333\n",
      "neutral      0.066667\n",
      "Name: emotion, dtype: float64\n",
      "\n",
      "Val Emotion Counts:\n",
      " disgust      0.133333\n",
      "angry        0.133333\n",
      "sad          0.133333\n",
      "calm         0.133333\n",
      "fearful      0.133333\n",
      "happy        0.133333\n",
      "surprised    0.133333\n",
      "neutral      0.066667\n",
      "Name: emotion, dtype: float64\n",
      "\n",
      "Test Emotion Counts\n",
      " surprised    0.133333\n",
      "angry        0.133333\n",
      "sad          0.133333\n",
      "fearful      0.133333\n",
      "happy        0.133333\n",
      "disgust      0.133333\n",
      "calm         0.133333\n",
      "neutral      0.066667\n",
      "Name: emotion, dtype: float64\n"
     ]
    }
   ],
   "source": [
    "# Check Distribution\n",
    "print(\"\\nTrain Emotion Counts:\\n\", train_df['emotion'].value_counts(normalize=True))\n",
    "print(\"\\nVal Emotion Counts:\\n\", val_df['emotion'].value_counts(normalize=True))\n",
    "print(\"\\nTest Emotion Counts\\n\", test_df['emotion'].value_counts(normalize=True))"
   ]
  },
  {
   "cell_type": "markdown",
   "metadata": {},
   "source": [
    "<h2 style=\"color:purple;\">Data Preprocessing and Scaling</h2>"
   ]
  },
  {
   "cell_type": "code",
   "execution_count": 30,
   "metadata": {},
   "outputs": [
    {
     "name": "stdout",
     "output_type": "stream",
     "text": [
      "Train Dataset Shape: (2880, 45)\n",
      " Train Dataset Head:\n",
      "                             filename  actor  gender emotion  emotion_code  \\\n",
      "360          03-01-03-01-01-01-05.wav      5  female   happy             3   \n",
      "361  03-01-03-01-01-01-05.wav_stretch      5  female   happy             3   \n",
      "362    03-01-03-01-01-01-05.wav_shift      5  female   happy             3   \n",
      "\n",
      "     duration   loudness  voice_ratio  centroid_mean  centroid_std  ...  \\\n",
      "360     1.984 -14.873622     0.951613    3190.964220   1122.462784  ...   \n",
      "361     2.480 -13.317622     0.967742    3238.474140   1170.150289  ...   \n",
      "362     1.984 -13.674015     0.967742    3377.553612   1165.026115  ...   \n",
      "\n",
      "       mfcc_13  contrast_1  contrast_2  contrast_3  contrast_4  contrast_5  \\\n",
      "360  -6.982915   25.503151   17.708561   18.943537   19.238564   18.832926   \n",
      "361  -6.366129   26.081604   17.631333   20.689296   21.072364   19.998867   \n",
      "362 -13.436652   24.805513   19.148285   19.877902   19.766768   20.623882   \n",
      "\n",
      "     contrast_6  tonnetz_2  tonnetz_4  pitch_mean  \n",
      "360   20.539578  -0.003049  -0.009414   2145.6292  \n",
      "361   21.690806   0.015322  -0.022258   2136.1710  \n",
      "362   21.950159   0.013038   0.010972   2236.9731  \n",
      "\n",
      "[3 rows x 45 columns]\n",
      "\n",
      "Val Dataset Shape: (720, 45)\n",
      " Val Dataset Head:\n",
      "                           filename  actor gender  emotion  emotion_code  \\\n",
      "0          03-01-07-01-01-02-18.wav     18   male  disgust             7   \n",
      "1  03-01-07-01-01-02-18.wav_stretch     18   male  disgust             7   \n",
      "2    03-01-07-01-01-02-18.wav_shift     18   male  disgust             7   \n",
      "\n",
      "   duration   loudness  voice_ratio  centroid_mean  centroid_std  ...  \\\n",
      "0     2.176 -17.363924     0.764706    3103.861734   1133.595952  ...   \n",
      "1     2.720 -16.133003     0.776471    3117.783534   1044.945930  ...   \n",
      "2     2.176 -16.485405     0.823529    3229.374024   1080.269650  ...   \n",
      "\n",
      "     mfcc_13  contrast_1  contrast_2  contrast_3  contrast_4  contrast_5  \\\n",
      "0 -11.518904   28.627183   18.279906   20.792193   18.526170   19.125356   \n",
      "1 -11.832370   29.983701   20.097599   22.664888   20.297126   20.495549   \n",
      "2 -21.810642   26.807913   20.287054   22.322285   20.867512   19.900085   \n",
      "\n",
      "   contrast_6  tonnetz_2  tonnetz_4  pitch_mean  \n",
      "0   18.428129  -0.025689   0.037315   2245.6667  \n",
      "1   19.437231  -0.029710   0.044577   2203.0874  \n",
      "2   19.715297   0.004281  -0.051420   2135.2737  \n",
      "\n",
      "[3 rows x 45 columns]\n",
      "\n",
      "Test Dataset Shape: (720, 45)\n",
      " Test Dataset Head:\n",
      "                             filename  actor  gender    emotion  emotion_code  \\\n",
      "180          03-01-08-02-01-02-23.wav     23  female  surprised             8   \n",
      "181  03-01-08-02-01-02-23.wav_stretch     23  female  surprised             8   \n",
      "182    03-01-08-02-01-02-23.wav_shift     23  female  surprised             8   \n",
      "\n",
      "     duration   loudness  voice_ratio  centroid_mean  centroid_std  ...  \\\n",
      "180     1.408 -12.804449     0.977273    2989.753438    842.582195  ...   \n",
      "181     1.760 -12.324915     1.000000    2949.589272    690.325381  ...   \n",
      "182     1.408 -12.473193     1.000000    3078.503372    680.958615  ...   \n",
      "\n",
      "       mfcc_13  contrast_1  contrast_2  contrast_3  contrast_4  contrast_5  \\\n",
      "180 -23.375078   29.158948   18.554785   21.476591   19.056056   18.795258   \n",
      "181 -24.204268   28.672830   19.701469   22.143154   19.717637   20.013785   \n",
      "182 -25.948698   27.168235   20.060599   21.926893   20.961012   20.047202   \n",
      "\n",
      "     contrast_6  tonnetz_2  tonnetz_4  pitch_mean  \n",
      "180   19.653737   0.021776   0.009453   2121.9097  \n",
      "181   20.323413   0.025330   0.015771   2045.9376  \n",
      "182   20.361163   0.030714  -0.026437   2137.0903  \n",
      "\n",
      "[3 rows x 45 columns]\n",
      "\n"
     ]
    }
   ],
   "source": [
    "print(f\"Train Dataset Shape: {train_df.shape}\\n Train Dataset Head:\\n{train_df.head(3)}\\n\")\n",
    "print(f\"Val Dataset Shape: {val_df.shape}\\n Val Dataset Head:\\n{val_df.head(3)}\\n\")\n",
    "print(f\"Test Dataset Shape: {test_df.shape}\\n Test Dataset Head:\\n{test_df.head(3)}\\n\")"
   ]
  },
  {
   "cell_type": "markdown",
   "metadata": {},
   "source": [
    "<h2 style=\"color:purple;\">Saving the dataframe</h2>"
   ]
  },
  {
   "cell_type": "code",
   "execution_count": 31,
   "metadata": {},
   "outputs": [],
   "source": [
    "train_df.to_csv(\"./datasets/train_data.csv\", index=False)\n",
    "val_df.to_csv(\"./datasets/validation_data.csv\", index=False)\n",
    "test_df.to_csv(\"./datasets/test_data.csv\", index=False)"
   ]
  }
 ],
 "metadata": {
  "kaggle": {
   "accelerator": "nvidiaTeslaT4",
   "dataSources": [
    {
     "datasetId": 7906050,
     "sourceId": 12524604,
     "sourceType": "datasetVersion"
    }
   ],
   "isGpuEnabled": true,
   "isInternetEnabled": true,
   "language": "python",
   "sourceType": "notebook"
  },
  "kernelspec": {
   "display_name": "Python 3 (ipykernel)",
   "language": "python",
   "name": "python3"
  },
  "language_info": {
   "codemirror_mode": {
    "name": "ipython",
    "version": 3
   },
   "file_extension": ".py",
   "mimetype": "text/x-python",
   "name": "python",
   "nbconvert_exporter": "python",
   "pygments_lexer": "ipython3",
   "version": "3.10.18"
  }
 },
 "nbformat": 4,
 "nbformat_minor": 4
}
